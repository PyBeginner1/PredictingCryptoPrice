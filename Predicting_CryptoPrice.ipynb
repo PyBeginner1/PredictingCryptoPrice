{
  "nbformat": 4,
  "nbformat_minor": 0,
  "metadata": {
    "colab": {
      "name": "Predicting CryptoPrice.ipynb",
      "provenance": [],
      "collapsed_sections": [],
      "authorship_tag": "ABX9TyPTP6YZiKT/fPjZDNzsRqx/",
      "include_colab_link": true
    },
    "kernelspec": {
      "name": "python3",
      "display_name": "Python 3"
    },
    "language_info": {
      "name": "python"
    }
  },
  "cells": [
    {
      "cell_type": "markdown",
      "metadata": {
        "id": "view-in-github",
        "colab_type": "text"
      },
      "source": [
        "<a href=\"https://colab.research.google.com/github/PyBeginner1/PredictingCryptoPrice/blob/main/Predicting_CryptoPrice.ipynb\" target=\"_parent\"><img src=\"https://colab.research.google.com/assets/colab-badge.svg\" alt=\"Open In Colab\"/></a>"
      ]
    },
    {
      "cell_type": "code",
      "metadata": {
        "id": "TA7_GeVSODT2"
      },
      "source": [
        ""
      ],
      "execution_count": null,
      "outputs": []
    },
    {
      "cell_type": "code",
      "metadata": {
        "id": "9cG1NTAHOET1"
      },
      "source": [
        "import numpy as np\n",
        "import matplotlib.pyplot as plt\n",
        "import pandas as pd\n",
        "import pandas_datareader as web\n",
        "from sklearn.preprocessing import MinMaxScaler\n",
        "from tensorflow.keras.layers import Dense, Dropout, LSTM\n",
        "from tensorflow.keras.models import Sequential\n",
        "import datetime as dt\n"
      ],
      "execution_count": 1,
      "outputs": []
    },
    {
      "cell_type": "code",
      "metadata": {
        "id": "1wwrEdVdOH0r"
      },
      "source": [
        "crypto_currency = 'ETH'\n",
        "#to check 1ETH = 'x' USD\n",
        "against_currency = 'USD'"
      ],
      "execution_count": 2,
      "outputs": []
    },
    {
      "cell_type": "code",
      "metadata": {
        "id": "uuQtREINOJqS"
      },
      "source": [
        "#time frame for training data to predfict future\n",
        "start = dt.datetime(2016, 1, 1)\n",
        "#today\n",
        "end = dt.datetime.today()"
      ],
      "execution_count": 7,
      "outputs": []
    },
    {
      "cell_type": "code",
      "metadata": {
        "id": "SHJqYiAfOMlR"
      },
      "source": [
        "data = web.DataReader(f'{crypto_currency}-{against_currency}', 'yahoo', start, end)"
      ],
      "execution_count": 9,
      "outputs": []
    },
    {
      "cell_type": "code",
      "metadata": {
        "colab": {
          "base_uri": "https://localhost:8080/"
        },
        "id": "MxgtAwl_OZfq",
        "outputId": "9a0271b1-1563-45e5-857e-bc55aeae0e93"
      },
      "source": [
        "print(data.head())"
      ],
      "execution_count": 11,
      "outputs": [
        {
          "output_type": "stream",
          "text": [
            "                High       Low      Open     Close    Volume  Adj Close\n",
            "Date                                                                   \n",
            "2016-01-01  0.954822  0.931442  0.933712  0.948024  206062.0   0.948024\n",
            "2016-01-02  0.969637  0.936560  0.947401  0.937124  255504.0   0.937124\n",
            "2016-01-03  0.991362  0.934313  0.938430  0.971905  407632.0   0.971905\n",
            "2016-01-04  0.976438  0.929835  0.972045  0.954480  346245.0   0.954480\n",
            "2016-01-05  0.970597  0.946543  0.953147  0.950176  219833.0   0.950176\n"
          ],
          "name": "stdout"
        }
      ]
    },
    {
      "cell_type": "code",
      "metadata": {
        "colab": {
          "base_uri": "https://localhost:8080/",
          "height": 225
        },
        "id": "_X0LAL-yPgKp",
        "outputId": "6b963196-3a86-485d-8b90-867caeb9e605"
      },
      "source": [
        "data.tail()"
      ],
      "execution_count": 12,
      "outputs": [
        {
          "output_type": "execute_result",
          "data": {
            "text/html": [
              "<div>\n",
              "<style scoped>\n",
              "    .dataframe tbody tr th:only-of-type {\n",
              "        vertical-align: middle;\n",
              "    }\n",
              "\n",
              "    .dataframe tbody tr th {\n",
              "        vertical-align: top;\n",
              "    }\n",
              "\n",
              "    .dataframe thead th {\n",
              "        text-align: right;\n",
              "    }\n",
              "</style>\n",
              "<table border=\"1\" class=\"dataframe\">\n",
              "  <thead>\n",
              "    <tr style=\"text-align: right;\">\n",
              "      <th></th>\n",
              "      <th>High</th>\n",
              "      <th>Low</th>\n",
              "      <th>Open</th>\n",
              "      <th>Close</th>\n",
              "      <th>Volume</th>\n",
              "      <th>Adj Close</th>\n",
              "    </tr>\n",
              "    <tr>\n",
              "      <th>Date</th>\n",
              "      <th></th>\n",
              "      <th></th>\n",
              "      <th></th>\n",
              "      <th></th>\n",
              "      <th></th>\n",
              "      <th></th>\n",
              "    </tr>\n",
              "  </thead>\n",
              "  <tbody>\n",
              "    <tr>\n",
              "      <th>2021-05-03</th>\n",
              "      <td>3523.585938</td>\n",
              "      <td>3180.742676</td>\n",
              "      <td>3431.131592</td>\n",
              "      <td>3253.629395</td>\n",
              "      <td>6.240205e+10</td>\n",
              "      <td>3253.629395</td>\n",
              "    </tr>\n",
              "    <tr>\n",
              "      <th>2021-05-04</th>\n",
              "      <td>3541.462646</td>\n",
              "      <td>3213.101562</td>\n",
              "      <td>3240.554688</td>\n",
              "      <td>3522.783203</td>\n",
              "      <td>4.833420e+10</td>\n",
              "      <td>3522.783203</td>\n",
              "    </tr>\n",
              "    <tr>\n",
              "      <th>2021-05-05</th>\n",
              "      <td>3598.895996</td>\n",
              "      <td>3386.239990</td>\n",
              "      <td>3524.930908</td>\n",
              "      <td>3490.880371</td>\n",
              "      <td>4.430039e+10</td>\n",
              "      <td>3490.880371</td>\n",
              "    </tr>\n",
              "    <tr>\n",
              "      <th>2021-05-06</th>\n",
              "      <td>3807.253906</td>\n",
              "      <td>3370.261963</td>\n",
              "      <td>3490.105225</td>\n",
              "      <td>3484.729004</td>\n",
              "      <td>3.960724e+10</td>\n",
              "      <td>3484.729004</td>\n",
              "    </tr>\n",
              "    <tr>\n",
              "      <th>2021-05-08</th>\n",
              "      <td>3630.603027</td>\n",
              "      <td>3462.247803</td>\n",
              "      <td>3486.229492</td>\n",
              "      <td>3615.113037</td>\n",
              "      <td>3.950773e+10</td>\n",
              "      <td>3615.113037</td>\n",
              "    </tr>\n",
              "  </tbody>\n",
              "</table>\n",
              "</div>"
            ],
            "text/plain": [
              "                   High          Low  ...        Volume    Adj Close\n",
              "Date                                  ...                           \n",
              "2021-05-03  3523.585938  3180.742676  ...  6.240205e+10  3253.629395\n",
              "2021-05-04  3541.462646  3213.101562  ...  4.833420e+10  3522.783203\n",
              "2021-05-05  3598.895996  3386.239990  ...  4.430039e+10  3490.880371\n",
              "2021-05-06  3807.253906  3370.261963  ...  3.960724e+10  3484.729004\n",
              "2021-05-08  3630.603027  3462.247803  ...  3.950773e+10  3615.113037\n",
              "\n",
              "[5 rows x 6 columns]"
            ]
          },
          "metadata": {
            "tags": []
          },
          "execution_count": 12
        }
      ]
    },
    {
      "cell_type": "code",
      "metadata": {
        "id": "auLnH593PhaZ"
      },
      "source": [
        "#prepare the data\n",
        "scaler = MinMaxScaler(feature_range=(0,1))\n",
        "scaled_data = scaler.fit_transform(data['Close'].values.reshape(-1,1))"
      ],
      "execution_count": 17,
      "outputs": []
    },
    {
      "cell_type": "code",
      "metadata": {
        "id": "HAURTx2HSCKS"
      },
      "source": [
        "#using x days data of past to predict future, here we take 60 days data from past\n",
        "prediction_days =60"
      ],
      "execution_count": 14,
      "outputs": []
    },
    {
      "cell_type": "code",
      "metadata": {
        "id": "UnTz8XLtSTCn"
      },
      "source": [
        "#training data\n",
        "x_train, y_train =[], []\n",
        "for x in range(prediction_days, len(scaled_data)):\n",
        "  x_train.append(scaled_data[x-prediction_days:x, 0])\n",
        "  #61st day that is the next day\n",
        "  y_train.append(scaled_data[x,0])\n"
      ],
      "execution_count": 19,
      "outputs": []
    },
    {
      "cell_type": "code",
      "metadata": {
        "id": "RZSFJcuYVMPJ"
      },
      "source": [
        "#converting to numpy arrays\n",
        "x_train, y_train = np.array(x_train), np.array(y_train)\n",
        "x_train = np.reshape(x_train, (x_train.shape[0],x_train.shape[1],1))"
      ],
      "execution_count": 22,
      "outputs": []
    },
    {
      "cell_type": "code",
      "metadata": {
        "colab": {
          "base_uri": "https://localhost:8080/"
        },
        "id": "cLslQhceVqaO",
        "outputId": "bb9e3ffa-5c69-4308-d037-416dc470b022"
      },
      "source": [
        "#create neural network\n",
        "model = Sequential()\n",
        "\n",
        "model.add(LSTM(units=50, return_sequences =True, input_shape=(x_train.shape[1],1)))\n",
        "#to reduce overfitting\n",
        "model.add(Dropout(0.2))\n",
        "model.add(LSTM(units=50, return_sequences =True))\n",
        "model.add(Dropout(0.2))\n",
        "model.add(LSTM(units=50))\n",
        "model.add(Dropout(0.2))\n",
        "model.add(Dense(units=1))\n",
        "\n",
        "model.compile(optimizer='adam', loss='mean_squared_error')\n",
        "model.fit(x_train,y_train, epochs = 25, batch_size =32)"
      ],
      "execution_count": 28,
      "outputs": [
        {
          "output_type": "stream",
          "text": [
            "Epoch 1/25\n",
            "60/60 [==============================] - 9s 74ms/step - loss: 0.0069\n",
            "Epoch 2/25\n",
            "60/60 [==============================] - 5s 79ms/step - loss: 0.0017\n",
            "Epoch 3/25\n",
            "60/60 [==============================] - 5s 78ms/step - loss: 0.0012\n",
            "Epoch 4/25\n",
            "60/60 [==============================] - 5s 78ms/step - loss: 8.5568e-04\n",
            "Epoch 5/25\n",
            "60/60 [==============================] - 5s 79ms/step - loss: 9.0128e-04\n",
            "Epoch 6/25\n",
            "60/60 [==============================] - 5s 78ms/step - loss: 7.3470e-04\n",
            "Epoch 7/25\n",
            "60/60 [==============================] - 5s 79ms/step - loss: 0.0011\n",
            "Epoch 8/25\n",
            "60/60 [==============================] - 5s 79ms/step - loss: 9.2990e-04\n",
            "Epoch 9/25\n",
            "60/60 [==============================] - 5s 79ms/step - loss: 8.6225e-04\n",
            "Epoch 10/25\n",
            "60/60 [==============================] - 5s 79ms/step - loss: 5.8680e-04\n",
            "Epoch 11/25\n",
            "60/60 [==============================] - 5s 79ms/step - loss: 5.5977e-04\n",
            "Epoch 12/25\n",
            "60/60 [==============================] - 5s 80ms/step - loss: 5.8526e-04\n",
            "Epoch 13/25\n",
            "60/60 [==============================] - 5s 79ms/step - loss: 7.2887e-04\n",
            "Epoch 14/25\n",
            "60/60 [==============================] - 5s 78ms/step - loss: 6.3335e-04\n",
            "Epoch 15/25\n",
            "60/60 [==============================] - 5s 79ms/step - loss: 8.8803e-04\n",
            "Epoch 16/25\n",
            "60/60 [==============================] - 5s 79ms/step - loss: 5.9734e-04\n",
            "Epoch 17/25\n",
            "60/60 [==============================] - 5s 79ms/step - loss: 5.9928e-04\n",
            "Epoch 18/25\n",
            "60/60 [==============================] - 5s 79ms/step - loss: 5.0531e-04\n",
            "Epoch 19/25\n",
            "60/60 [==============================] - 5s 79ms/step - loss: 5.8324e-04\n",
            "Epoch 20/25\n",
            "60/60 [==============================] - 5s 80ms/step - loss: 5.6099e-04\n",
            "Epoch 21/25\n",
            "60/60 [==============================] - 5s 78ms/step - loss: 5.0915e-04\n",
            "Epoch 22/25\n",
            "60/60 [==============================] - 5s 79ms/step - loss: 6.2983e-04\n",
            "Epoch 23/25\n",
            "60/60 [==============================] - 5s 79ms/step - loss: 4.4273e-04\n",
            "Epoch 24/25\n",
            "60/60 [==============================] - 5s 78ms/step - loss: 5.1596e-04\n",
            "Epoch 25/25\n",
            "60/60 [==============================] - 5s 78ms/step - loss: 4.7663e-04\n"
          ],
          "name": "stdout"
        },
        {
          "output_type": "execute_result",
          "data": {
            "text/plain": [
              "<tensorflow.python.keras.callbacks.History at 0x7f49ccc0e690>"
            ]
          },
          "metadata": {
            "tags": []
          },
          "execution_count": 28
        }
      ]
    },
    {
      "cell_type": "code",
      "metadata": {
        "id": "Hm_QOlwtc7ok"
      },
      "source": [
        "#testing the model\n",
        "#time frame\n",
        "test_start = dt.datetime(2020,1,1)\n",
        "test_end = dt.datetime.today()\n",
        "\n",
        "test_data = web.DataReader(f'{crypto_currency}-{against_currency}', 'yahoo', test_start, test_end)\n",
        "actual_prices = test_data['Close'].values"
      ],
      "execution_count": 29,
      "outputs": []
    },
    {
      "cell_type": "code",
      "metadata": {
        "id": "JPthD6ClgWRi"
      },
      "source": [
        "#combine \n",
        "total_dataset = pd.concat((data['Close'], test_data['Close']),axis = 0)"
      ],
      "execution_count": 31,
      "outputs": []
    },
    {
      "cell_type": "code",
      "metadata": {
        "id": "nTx8HT9RhGwf"
      },
      "source": [
        "model_inputs = total_dataset[len(total_dataset)-len(test_data)-prediction_days:].values\n",
        "model_inputs =model_inputs.reshape(-1,1)\n",
        "model_inputs = scaler.fit_transform(model_inputs)"
      ],
      "execution_count": 33,
      "outputs": []
    },
    {
      "cell_type": "markdown",
      "metadata": {
        "id": "uBwd-6ppijFu"
      },
      "source": [
        "Making Predictions"
      ]
    },
    {
      "cell_type": "code",
      "metadata": {
        "id": "sYZs64K-ibMA"
      },
      "source": [
        "x_test = []\n",
        "for x in range(prediction_days, len(model_inputs)):\n",
        "  x_test.append(model_inputs[x-prediction_days:x, 0])\n",
        "\n",
        "x_test = np.array(x_test)\n",
        "x_test = np.reshape(x_test, (x_test.shape[0],x_test.shape[1], 1))"
      ],
      "execution_count": 35,
      "outputs": []
    },
    {
      "cell_type": "code",
      "metadata": {
        "id": "Qj40dcROjqcA"
      },
      "source": [
        "prediction_prices = model.predict(x_test)\n",
        "prediction_prices = scaler.inverse_transform(prediction_prices)"
      ],
      "execution_count": 37,
      "outputs": []
    },
    {
      "cell_type": "code",
      "metadata": {
        "colab": {
          "base_uri": "https://localhost:8080/",
          "height": 295
        },
        "id": "LdFQuSC1kT9l",
        "outputId": "6e58aa6b-369c-43f4-8d24-cf9aae711ea2"
      },
      "source": [
        "#plot\n",
        "plt.plot(actual_prices, color = 'blue', label =\"Actual Prices\")\n",
        "plt.plot(prediction_prices, color ='red', label=\"Prediction Prices\")\n",
        "plt.xlabel(\"Time\")\n",
        "plt.ylabel('Price')\n",
        "plt.title(\"Actual vs Predicted\")\n",
        "plt.legend()\n",
        "plt.show()"
      ],
      "execution_count": 47,
      "outputs": [
        {
          "output_type": "display_data",
          "data": {
            "image/png": "[encoded data removed]",
            "text/plain": [
              "<Figure size 432x288 with 1 Axes>"
            ]
          },
          "metadata": {
            "tags": [],
            "needs_background": "light"
          }
        }
      ]
    },
    {
      "cell_type": "code",
      "metadata": {
        "id": "wE3Soao3oiUV"
      },
      "source": [
        "real_data = [model_inputs[len(model_inputs) + 1 - prediction_days:len(model_inputs) + 1, 0 ]]\n",
        "real_data = np.array(real_data)\n",
        "real_data  = np.reshape(real_data, (real_data.shape[0], real_data.shape[1], 1))"
      ],
      "execution_count": 48,
      "outputs": []
    },
    {
      "cell_type": "code",
      "metadata": {
        "colab": {
          "base_uri": "https://localhost:8080/"
        },
        "id": "iKc3pFKApHZH",
        "outputId": "346968b9-1dfd-4b64-82a1-7448237b9388"
      },
      "source": [
        "prediction = model.predict(real_data)\n",
        "prediction = scaler.inverse_transform(prediction)\n",
        "print(prediction)"
      ],
      "execution_count": 49,
      "outputs": [
        {
          "output_type": "stream",
          "text": [
            "[[3707.565]]\n"
          ],
          "name": "stdout"
        }
      ]
    }
  ]
}